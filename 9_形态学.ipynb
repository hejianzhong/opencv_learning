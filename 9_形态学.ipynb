{
 "cells": [
  {
   "cell_type": "markdown",
   "metadata": {},
   "source": [
    "1. 腐蚀|膨胀\n",
    "2. 开运算（先腐蚀后膨胀）\n",
    "3. 闭运算（先膨胀后腐蚀）\n",
    "4. 顶帽\n",
    "5. 黑帽"
   ]
  },
  {
   "cell_type": "code",
   "execution_count": 8,
   "outputs": [],
   "source": [
    "import cv2\n",
    "import numpy as np"
   ],
   "metadata": {
    "collapsed": false,
    "ExecuteTime": {
     "start_time": "2024-02-18T21:41:29.922511Z",
     "end_time": "2024-02-18T21:41:29.934671Z"
    }
   }
  },
  {
   "cell_type": "markdown",
   "metadata": {},
   "source": [
    "全局二值化 </BR>\n",
    "threshold(img, thresh, maxVal, type)\n",
    "1. img: 图像\n",
    "2. thresh：门限\n",
    "3. maxVal： \n",
    "4. type： THRESH_BINARY|THRESH_BINARY_INV, THRESH_TRUNC, THRESH_TOZERO|THRESH_TOZERO_INV"
   ]
  },
  {
   "cell_type": "code",
   "execution_count": 9,
   "metadata": {
    "ExecuteTime": {
     "start_time": "2024-02-18T21:41:29.937671Z",
     "end_time": "2024-02-18T21:41:29.999597Z"
    }
   },
   "outputs": [],
   "source": [
    "img = cv2.imread(\"dog.jpeg\", 1)\n",
    "img1 = cv2.cvtColor(img, cv2.COLOR_RGB2GRAY)\n",
    "_, img2 = cv2.threshold(img1, 180, 255, cv2.THRESH_BINARY)\n",
    "\n",
    "cv2.imshow(\"img\", img)\n",
    "cv2.imshow(\"grayImg\", img1)\n",
    "cv2.imshow(\"threshImg\", img2)"
   ]
  },
  {
   "cell_type": "code",
   "execution_count": 9,
   "metadata": {
    "ExecuteTime": {
     "start_time": "2024-02-18T21:41:29.999597Z",
     "end_time": "2024-02-18T21:41:30.015075Z"
    }
   },
   "outputs": [],
   "source": []
  }
 ],
 "metadata": {
  "kernelspec": {
   "display_name": "mydemo",
   "language": "python",
   "name": "python3"
  },
  "language_info": {
   "codemirror_mode": {
    "name": "ipython",
    "version": 3
   },
   "file_extension": ".py",
   "mimetype": "text/x-python",
   "name": "python",
   "nbconvert_exporter": "python",
   "pygments_lexer": "ipython3",
   "version": "3.8.18"
  }
 },
 "nbformat": 4,
 "nbformat_minor": 2
}
